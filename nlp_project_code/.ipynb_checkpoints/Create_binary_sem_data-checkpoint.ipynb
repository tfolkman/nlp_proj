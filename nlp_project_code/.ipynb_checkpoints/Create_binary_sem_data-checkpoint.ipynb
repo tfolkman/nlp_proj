{
 "cells": [
  {
   "cell_type": "code",
   "execution_count": 65,
   "metadata": {
    "collapsed": true
   },
   "outputs": [],
   "source": [
    "import numpy as np\n",
    "\n",
    "sem_dir = \"../sab_work/\"\n",
    "out_dir = \"../data/sem_data/\"\n",
    "words = [\"accident\", \"brilliant\", \"float\", \"excess\", \"promise\"]\n",
    "remap_words = [\"accident-n\", \"brilliant-a\", \"float-v\", \"excess-n\", \"promise-v\"]\n",
    "remap_dict = {}\n",
    "for i in range(len(words)):\n",
    "    remap_dict[words[i]] = remap_words[i]\n",
    "sets = ['train', 'test']"
   ]
  },
  {
   "cell_type": "code",
   "execution_count": 33,
   "metadata": {
    "collapsed": false
   },
   "outputs": [],
   "source": [
    "###get data in and map to a dictionary of dictionaries. Format is dictionary[feature][set] where feature is the word\n",
    "###and set is like accident_train which returns the list of rows that have that feature in that set\n",
    "\n",
    "word = words[0]\n",
    "set_type = sets[0]\n",
    "\n",
    "column_dict = {}\n",
    "total_rows = {}\n",
    "for word in words:\n",
    "    for set_type in sets:\n",
    "        with open(sem_dir + \"sem_\" +  word + \"_\" + set_type + \".txt\") as f:\n",
    "            num_rows = 0\n",
    "            for i, line in enumerate(f.readlines()):\n",
    "                for w1 in line.split(\" \"):\n",
    "                    second_level = word + \"_\" + set_type\n",
    "                    w = w1.strip()\n",
    "                    column_dict[w] = column_dict.get(w, {})\n",
    "                    column_dict[w][second_level] = column_dict[w].get(second_level, []) + [i]\n",
    "                num_rows += 1\n",
    "            total_rows[word + \"_\" + set_type] = num_rows"
   ]
  },
  {
   "cell_type": "code",
   "execution_count": 71,
   "metadata": {
    "collapsed": false
   },
   "outputs": [],
   "source": [
    "###explode the dictionary format to numpy arrays of same number of columns\n",
    "\n",
    "n_features = len(column_dict.keys())\n",
    "np_dict = {}\n",
    "for s in total_rows.items():\n",
    "    np_dict[s[0]] = np.zeros((s[1], n_features))\n",
    "\n",
    "for i, feature in enumerate(column_dict.keys()):\n",
    "    for data_set in column_dict[feature].keys():\n",
    "        np_array = np_dict[data_set]\n",
    "        for row in column_dict[feature][data_set]:\n",
    "            np_array[row, i] = 1\n",
    "        np_dict[data_set] = np_array"
   ]
  },
  {
   "cell_type": "code",
   "execution_count": 72,
   "metadata": {
    "collapsed": false
   },
   "outputs": [],
   "source": [
    "###write to disk\n",
    "\n",
    "for data_set in np_dict.items():\n",
    "    word_type = remap_dict[data_set[0].split(\"_\")[0]]\n",
    "    set_type = data_set[0].split(\"_\")[1]\n",
    "    np.save(out_dir + word_type + \"_\" + set_type + \"_sem.npy\", data_set[1])"
   ]
  },
  {
   "cell_type": "code",
   "execution_count": null,
   "metadata": {
    "collapsed": true
   },
   "outputs": [],
   "source": []
  }
 ],
 "metadata": {
  "kernelspec": {
   "display_name": "Python 2",
   "language": "python",
   "name": "python2"
  },
  "language_info": {
   "codemirror_mode": {
    "name": "ipython",
    "version": 2
   },
   "file_extension": ".py",
   "mimetype": "text/x-python",
   "name": "python",
   "nbconvert_exporter": "python",
   "pygments_lexer": "ipython2",
   "version": "2.7.9"
  }
 },
 "nbformat": 4,
 "nbformat_minor": 0
}
