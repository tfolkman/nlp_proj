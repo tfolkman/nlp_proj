{
 "cells": [
  {
   "cell_type": "code",
   "execution_count": 1,
   "metadata": {
    "collapsed": true
   },
   "outputs": [],
   "source": [
    "import numpy as np\n",
    "\n",
    "sem_dir = \"../sab_work/\"\n",
    "out_dir = \"../data/sem_data/\"\n",
    "words = [\"accident\", \"brilliant\", \"float\", \"excess\", \"promise\"]\n",
    "remap_words = [\"accident-n\", \"brilliant-a\", \"float-v\", \"excess-n\", \"promise-v\"]\n",
    "remap_dict = {}\n",
    "for i in range(len(words)):\n",
    "    remap_dict[words[i]] = remap_words[i]\n",
    "sets = ['train', 'test']"
   ]
  },
  {
   "cell_type": "code",
   "execution_count": 8,
   "metadata": {
    "collapsed": false
   },
   "outputs": [],
   "source": [
    "###get data in and map to a dictionary of dictionaries. Format is dictionary[feature][set] where feature is the word\n",
    "###and set is like accident_train which returns the list of rows that have that feature in that set\n",
    "\n",
    "word = words[0]\n",
    "set_type = sets[0]\n",
    "\n",
    "main_dict = {}\n",
    "total_rows = {}\n",
    "for word in words:\n",
    "    for set_type in sets:\n",
    "        with open(sem_dir + \"sem_\" +  word + \"_\" + set_type + \".txt\") as f:\n",
    "            num_rows = 0\n",
    "            for i, line in enumerate(f.readlines()):\n",
    "                for w1 in line.split(\" \"):\n",
    "                    second_level = word + \"_\" + set_type\n",
    "                    feature = w1.strip()\n",
    "                    \n",
    "                    main_dict[word] = main_dict.get(word, {})\n",
    "                    main_dict[word][feature] = main_dict[word].get(feature, {})\n",
    "                    main_dict[word][feature][set_type] = main_dict[word][feature].get(set_type, [])\n",
    "                    main_dict[word][feature][set_type].append(i)\n",
    "                    \n",
    "                num_rows += 1\n",
    "            total_rows[word + \"_\" + set_type] = num_rows\n",
    "total_cols = {}\n",
    "for w in words:\n",
    "    total_cols[w] = len(main_dict[w].keys())"
   ]
  },
  {
   "cell_type": "code",
   "execution_count": 22,
   "metadata": {
    "collapsed": false
   },
   "outputs": [],
   "source": [
    "###explode the dictionary format to numpy arrays of same number of columns\n",
    "\n",
    "n_features = len(main_dict.keys())\n",
    "np_dict = {}\n",
    "for s in total_rows.items():\n",
    "    w =  s[0].split(\"_\")[0]\n",
    "    np_dict[s[0]] = np.zeros((s[1], total_cols[w]))\n",
    "\n",
    "for word in main_dict.keys():\n",
    "    for i, feature in enumerate(main_dict[word]):\n",
    "        for set_type in main_dict[word][feature]:\n",
    "            np_array = np_dict[word + \"_\" + set_type]\n",
    "            for row in main_dict[word][feature][set_type]:\n",
    "                np_array[row, i] = 1\n",
    "            np_dict[word + \"_\" + set_type] = np_array"
   ]
  },
  {
   "cell_type": "code",
   "execution_count": 23,
   "metadata": {
    "collapsed": false
   },
   "outputs": [],
   "source": [
    "###write to disk\n",
    "\n",
    "for data_set in np_dict.items():\n",
    "    word_type = remap_dict[data_set[0].split(\"_\")[0]]\n",
    "    set_type = data_set[0].split(\"_\")[1]\n",
    "    np.save(out_dir + word_type + \"_\" + set_type + \"_sem.npy\", data_set[1])"
   ]
  },
  {
   "cell_type": "code",
   "execution_count": 28,
   "metadata": {
    "collapsed": false
   },
   "outputs": [],
   "source": [
    "import pandas as pd\n",
    "x=pd.DataFrame(np.load(\"../data/sem_data/promise-v_test_sem.npy\"))"
   ]
  },
  {
   "cell_type": "code",
   "execution_count": 29,
   "metadata": {
    "collapsed": false
   },
   "outputs": [
    {
     "data": {
      "text/plain": [
       "13    21\n",
       "14    15\n",
       "9     15\n",
       "12    14\n",
       "11    14\n",
       "17    13\n",
       "15    13\n",
       "8     12\n",
       "10    11\n",
       "6      9\n",
       "19     9\n",
       "7      8\n",
       "16     8\n",
       "18     8\n",
       "20     7\n",
       "5      6\n",
       "23     6\n",
       "22     4\n",
       "21     4\n",
       "3      4\n",
       "4      3\n",
       "2      3\n",
       "25     3\n",
       "27     3\n",
       "29     2\n",
       "32     2\n",
       "41     1\n",
       "24     1\n",
       "28     1\n",
       "31     1\n",
       "34     1\n",
       "35     1\n",
       "54     1\n",
       "dtype: int64"
      ]
     },
     "execution_count": 29,
     "metadata": {},
     "output_type": "execute_result"
    }
   ],
   "source": [
    "x.sum(axis=1).value_counts()"
   ]
  },
  {
   "cell_type": "code",
   "execution_count": null,
   "metadata": {
    "collapsed": true
   },
   "outputs": [],
   "source": []
  }
 ],
 "metadata": {
  "kernelspec": {
   "display_name": "Python 2",
   "language": "python",
   "name": "python2"
  },
  "language_info": {
   "codemirror_mode": {
    "name": "ipython",
    "version": 2
   },
   "file_extension": ".py",
   "mimetype": "text/x-python",
   "name": "python",
   "nbconvert_exporter": "python",
   "pygments_lexer": "ipython2",
   "version": "2.7.9"
  }
 },
 "nbformat": 4,
 "nbformat_minor": 0
}
