{
 "cells": [
  {
   "cell_type": "code",
   "execution_count": 9,
   "metadata": {
    "collapsed": false
   },
   "outputs": [],
   "source": [
    "import numpy as np\n",
    "\n",
    "sem_dir = \"../sab_work/\"\n",
    "out_dir = \"../data/sem_data/\"\n",
    "words = [\"accident\", \"brilliant\", \"float\", \"excess\", \"promise\", \"generous\", \"bother\", \"derive\", \"sack\"]\n",
    "remap_words = [\"accident-n\", \"brilliant-a\", \"float-v\", \"excess-n\", \"promise-v\", \"generous-a\", \"bother-v\", \"derive-v\",\n",
    "              \"sack-n\"]\n",
    "remap_dict = {}\n",
    "for i in range(len(words)):\n",
    "    remap_dict[words[i]] = remap_words[i]\n",
    "sets = ['train', 'test']"
   ]
  },
  {
   "cell_type": "code",
   "execution_count": 6,
   "metadata": {
    "collapsed": false
   },
   "outputs": [],
   "source": [
    "###get data in and map to a dictionary of dictionaries. Format is dictionary[feature][set] where feature is the word\n",
    "###and set is like accident_train which returns the list of rows that have that feature in that set\n",
    "\n",
    "word = words[0]\n",
    "set_type = sets[0]\n",
    "\n",
    "main_dict = {}\n",
    "total_rows = {}\n",
    "for word in words:\n",
    "    for set_type in sets:\n",
    "        with open(sem_dir + \"sem_\" +  word + \"_\" + set_type + \".txt\") as f:\n",
    "            num_rows = 0\n",
    "            for i, line in enumerate(f.readlines()):\n",
    "                for w1 in line.split(\" \"):\n",
    "                    second_level = word + \"_\" + set_type\n",
    "                    feature = w1.strip()\n",
    "                    \n",
    "                    main_dict[word] = main_dict.get(word, {})\n",
    "                    main_dict[word][feature] = main_dict[word].get(feature, {})\n",
    "                    main_dict[word][feature][set_type] = main_dict[word][feature].get(set_type, [])\n",
    "                    main_dict[word][feature][set_type].append(i)\n",
    "                    \n",
    "                num_rows += 1\n",
    "            total_rows[word + \"_\" + set_type] = num_rows\n",
    "total_cols = {}\n",
    "for w in words:\n",
    "    total_cols[w] = len(main_dict[w].keys())"
   ]
  },
  {
   "cell_type": "code",
   "execution_count": 10,
   "metadata": {
    "collapsed": false
   },
   "outputs": [],
   "source": [
    "###explode the dictionary format to numpy arrays of same number of columns\n",
    "\n",
    "n_features = len(main_dict.keys())\n",
    "np_dict = {}\n",
    "for s in total_rows.items():\n",
    "    w =  s[0].split(\"_\")[0]\n",
    "    np_dict[s[0]] = np.zeros((s[1], total_cols[w]))\n",
    "\n",
    "for word in main_dict.keys():\n",
    "    f_array = []\n",
    "    for i, feature in enumerate(main_dict[word]):\n",
    "        f_array.append(feature)\n",
    "        for set_type in main_dict[word][feature]:\n",
    "            np_array = np_dict[word + \"_\" + set_type]\n",
    "            for row in main_dict[word][feature][set_type]:\n",
    "                np_array[row, i] = 1\n",
    "            np_dict[word + \"_\" + set_type] = np_array\n",
    "    f_array = np.array(f_array)\n",
    "    np.save(\"../data/sem_data_cols/\" + word + \".npy\", f_array)"
   ]
  },
  {
   "cell_type": "code",
   "execution_count": 8,
   "metadata": {
    "collapsed": false
   },
   "outputs": [],
   "source": [
    "###write to disk\n",
    "\n",
    "for data_set in np_dict.items():\n",
    "    word_type = remap_dict[data_set[0].split(\"_\")[0]]\n",
    "    set_type = data_set[0].split(\"_\")[1]\n",
    "    np.save(out_dir + word_type + \"_\" + set_type + \"_sem.npy\", data_set[1])"
   ]
  },
  {
   "cell_type": "code",
   "execution_count": 6,
   "metadata": {
    "collapsed": false
   },
   "outputs": [],
   "source": [
    "import pandas as pd\n",
    "x=pd.DataFrame(np.load(\"../data/sem_data/bother-v_test_sem.npy\"))"
   ]
  },
  {
   "cell_type": "code",
   "execution_count": 7,
   "metadata": {
    "collapsed": false
   },
   "outputs": [
    {
     "data": {
      "text/plain": [
       "16     12\n",
       "38      8\n",
       "44      8\n",
       "37      8\n",
       "19      7\n",
       "41      7\n",
       "54      7\n",
       "45      6\n",
       "26      6\n",
       "39      6\n",
       "34      6\n",
       "53      6\n",
       "49      5\n",
       "43      5\n",
       "35      5\n",
       "36      5\n",
       "33      5\n",
       "27      5\n",
       "24      5\n",
       "46      4\n",
       "30      4\n",
       "7       4\n",
       "21      4\n",
       "40      4\n",
       "52      4\n",
       "61      4\n",
       "48      4\n",
       "47      3\n",
       "50      3\n",
       "51      3\n",
       "55      3\n",
       "11      3\n",
       "64      3\n",
       "32      3\n",
       "65      2\n",
       "5       2\n",
       "8       2\n",
       "15      2\n",
       "23      2\n",
       "28      2\n",
       "42      2\n",
       "56      2\n",
       "57      2\n",
       "29      1\n",
       "18      1\n",
       "79      1\n",
       "84      1\n",
       "12      1\n",
       "77      1\n",
       "76      1\n",
       "31      1\n",
       "20      1\n",
       "149     1\n",
       "58      1\n",
       "75      1\n",
       "25      1\n",
       "68      1\n",
       "67      1\n",
       "4       1\n",
       "Length: 59, dtype: int64"
      ]
     },
     "execution_count": 7,
     "metadata": {},
     "output_type": "execute_result"
    }
   ],
   "source": [
    "x.sum(axis=1).value_counts()"
   ]
  },
  {
   "cell_type": "code",
   "execution_count": null,
   "metadata": {
    "collapsed": true
   },
   "outputs": [],
   "source": []
  }
 ],
 "metadata": {
  "kernelspec": {
   "display_name": "Python 2",
   "language": "python",
   "name": "python2"
  },
  "language_info": {
   "codemirror_mode": {
    "name": "ipython",
    "version": 2
   },
   "file_extension": ".py",
   "mimetype": "text/x-python",
   "name": "python",
   "nbconvert_exporter": "python",
   "pygments_lexer": "ipython2",
   "version": "2.7.9"
  }
 },
 "nbformat": 4,
 "nbformat_minor": 0
}
