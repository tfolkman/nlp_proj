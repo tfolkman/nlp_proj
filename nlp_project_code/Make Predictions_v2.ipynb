{
 "cells": [
  {
   "cell_type": "markdown",
   "metadata": {},
   "source": [
    "#Make Predictions\n",
    "\n",
    "##TODO:\n",
    "\n",
    "* Average over 10 with std dev\n",
    "* Top features for RF\n",
    "* Plots ....tables....\n",
    "* Ensemble RF and SVM\n",
    "    * Max or avg\n",
    "\n",
    "\n",
    "* Compare to fine grain, S system, recall results\n",
    "* I think recall is defined as percentage of correct answers on all instances in test set. Which is what we are doing (basically accuracy)\n",
    "    * http://www2.denizyuret.com/ref/edmonds/senseval.pdf"
   ]
  },
  {
   "cell_type": "code",
   "execution_count": 1,
   "metadata": {
    "collapsed": false
   },
   "outputs": [],
   "source": [
    "from sklearn.ensemble import RandomForestClassifier\n",
    "from sklearn.svm import SVC\n",
    "from sklearn.metrics import precision_recall_fscore_support\n",
    "from __future__ import division\n",
    "import numpy as np"
   ]
  },
  {
   "cell_type": "code",
   "execution_count": 2,
   "metadata": {
    "collapsed": true
   },
   "outputs": [],
   "source": [
    "def get_acc(y_pred, y_test):\n",
    "    tp = 0\n",
    "    for i, y in enumerate(y_test):\n",
    "        if y_pred[i] in y:\n",
    "            tp = tp+1\n",
    "    return tp / len(y_pred)\n",
    "def load_data(lex, final_dir = \"/Users/tylerfolkman/GradSchool/Spring2015/NLP/project/clean/data/test_train\"):\n",
    "    train_X = np.load(\"{0}/{1}_train_X.npy\".format(final_dir, lex))\n",
    "    test_X = np.load(\"{0}/{1}_test_X.npy\".format(final_dir, lex))\n",
    "    train_target = np.load(\"{0}/{1}_train_target.npy\".format(final_dir, lex))\n",
    "    test_target = np.load(\"{0}/{1}_test_target.npy\".format(final_dir, lex))\n",
    "    return train_X, train_target, test_X, test_target\n",
    "def load_sem(lex, sem_dir = \"../data/sem_data/\"):\n",
    "    train_X = np.load(\"{0}/{1}_train_sem.npy\".format(sem_dir, lex))\n",
    "    test_X = np.load(\"{0}/{1}_test_sem.npy\".format(sem_dir, lex))\n",
    "    return train_X, test_X\n",
    "def eval_prediction(lex, model):\n",
    "    clf = model\n",
    "    print(\"********************\")\n",
    "    print(clf)\n",
    "    #run on lexical/syntactic data\n",
    "    train_X, train_target, test_X, test_target = load_data(lex)\n",
    "    print(\"~~~~~~~~~~~~~~~~~~~~\")\n",
    "    print(\"Syntactic/Lexical Train Shape: {}\".format(train_X.shape))\n",
    "    print(\"Syntactic/Lexical Test Shape: {}\".format(test_X.shape))\n",
    "    clf.fit(train_X, train_target)\n",
    "    pred_target = clf.predict(test_X)\n",
    "    acc = get_acc(pred_target, test_target)\n",
    "    print(\"Syntactic/Lexical Test Accuracy for {0}: {1}\".format(lex, acc))\n",
    "   \n",
    "\n",
    "    #run on semantic data\n",
    "    sem_train_X, sem_test_X = load_sem(lex)\n",
    "    clf.fit(sem_train_X, train_target)\n",
    "    sem_pred_target = clf.predict(sem_test_X)\n",
    "    sem_acc = get_acc(sem_pred_target, test_target)\n",
    "    print(\"~~~~~~~~~~~~~~~~~~~~\")\n",
    "    print(\"Semantic Train Shape: {}\".format(sem_train_X.shape))\n",
    "    print(\"Semantic Test Shape: {}\".format(sem_test_X.shape))\n",
    "    print(\"Semantic Test Accuracy for {0}: {1}\".format(lex, sem_acc))\n",
    "    \n",
    "    #run on combined data\n",
    "    \n",
    "    comb_train_X = np.concatenate([train_X, sem_train_X], axis=1)\n",
    "    comb_test_X = np.concatenate([test_X, sem_test_X], axis=1)\n",
    "    clf.fit(comb_train_X, train_target)\n",
    "    comb_pred_target = clf.predict(comb_test_X)\n",
    "    comb_acc = get_acc(comb_pred_target, test_target)\n",
    "    print(\"~~~~~~~~~~~~~~~~~~~~\")\n",
    "    print(\"Combined Train Shape: {}\".format(comb_train_X.shape))\n",
    "    print(\"Combined Test Shape: {}\".format(comb_test_X.shape))\n",
    "    print(\"Combined Test Accuracy for {0}: {1}\".format(lex, comb_acc))\n",
    "    \n",
    "    print(\"********************\")"
   ]
  },
  {
   "cell_type": "code",
   "execution_count": 4,
   "metadata": {
    "collapsed": false
   },
   "outputs": [
    {
     "name": "stdout",
     "output_type": "stream",
     "text": [
      "********************\n",
      "RandomForestClassifier(bootstrap=True, class_weight=None, criterion='gini',\n",
      "            max_depth=None, max_features='auto', max_leaf_nodes=None,\n",
      "            min_samples_leaf=1, min_samples_split=2,\n",
      "            min_weight_fraction_leaf=0.0, n_estimators=10, n_jobs=1,\n",
      "            oob_score=False, random_state=None, verbose=0,\n",
      "            warm_start=False)\n",
      "~~~~~~~~~~~~~~~~~~~~\n",
      "Syntactic/Lexical Train Shape: (178, 5717)\n",
      "Syntactic/Lexical Test Shape: (186, 5717)\n",
      "Syntactic/Lexical Test Accuracy for excess-n: 0.806451612903\n",
      "~~~~~~~~~~~~~~~~~~~~\n",
      "Semantic Train Shape: (178, 4412)\n",
      "Semantic Test Shape: (186, 4412)\n",
      "Semantic Test Accuracy for excess-n: 0.612903225806\n",
      "~~~~~~~~~~~~~~~~~~~~\n",
      "Combined Train Shape: (178, 10129)\n",
      "Combined Test Shape: (186, 10129)\n",
      "Combined Test Accuracy for excess-n: 0.779569892473\n",
      "********************\n",
      "********************\n",
      "SVC(C=1.0, cache_size=200, class_weight=None, coef0=0.0, degree=3, gamma=0.0,\n",
      "  kernel='linear', max_iter=-1, probability=False, random_state=None,\n",
      "  shrinking=True, tol=0.001, verbose=False)\n",
      "~~~~~~~~~~~~~~~~~~~~\n",
      "Syntactic/Lexical Train Shape: (178, 5717)\n",
      "Syntactic/Lexical Test Shape: (186, 5717)\n",
      "Syntactic/Lexical Test Accuracy for excess-n: 0.860215053763\n",
      "~~~~~~~~~~~~~~~~~~~~\n",
      "Semantic Train Shape: (178, 4412)\n",
      "Semantic Test Shape: (186, 4412)\n",
      "Semantic Test Accuracy for excess-n: 0.672043010753\n",
      "~~~~~~~~~~~~~~~~~~~~\n",
      "Combined Train Shape: (178, 10129)\n",
      "Combined Test Shape: (186, 10129)\n",
      "Combined Test Accuracy for excess-n: 0.827956989247\n",
      "********************\n"
     ]
    }
   ],
   "source": [
    "model = RandomForestClassifier(n_estimators=10)\n",
    "model2 = SVC(kernel='linear')\n",
    "eval_prediction('excess-n', model)\n",
    "eval_prediction('excess-n', model2)"
   ]
  },
  {
   "cell_type": "code",
   "execution_count": 28,
   "metadata": {
    "collapsed": false
   },
   "outputs": [
    {
     "name": "stdout",
     "output_type": "stream",
     "text": [
      "********************\n",
      "RandomForestClassifier(bootstrap=True, class_weight=None, criterion='gini',\n",
      "            max_depth=None, max_features='auto', max_leaf_nodes=None,\n",
      "            min_samples_leaf=1, min_samples_split=2,\n",
      "            min_weight_fraction_leaf=0.0, n_estimators=10, n_jobs=1,\n",
      "            oob_score=False, random_state=None, verbose=0,\n",
      "            warm_start=False)\n",
      "~~~~~~~~~~~~~~~~~~~~\n",
      "Syntactic/Lexical Train Shape: (183, 6087)\n",
      "Syntactic/Lexical Test Shape: (229, 6087)\n",
      "Syntactic/Lexical Test Accuracy for float-v: 0.401746724891\n",
      "~~~~~~~~~~~~~~~~~~~~\n",
      "Semantic Train Shape: (183, 5548)\n",
      "Semantic Test Shape: (229, 5548)\n",
      "Semantic Test Accuracy for float-v: 0.38864628821\n",
      "~~~~~~~~~~~~~~~~~~~~\n",
      "Combined Train Shape: (183, 11635)\n",
      "Combined Test Shape: (229, 11635)\n",
      "Combined Test Accuracy for float-v: 0.454148471616\n",
      "********************\n",
      "********************\n",
      "SVC(C=1.0, cache_size=200, class_weight=None, coef0=0.0, degree=3, gamma=0.0,\n",
      "  kernel='linear', max_iter=-1, probability=False, random_state=None,\n",
      "  shrinking=True, tol=0.001, verbose=False)\n",
      "~~~~~~~~~~~~~~~~~~~~\n",
      "Syntactic/Lexical Train Shape: (183, 6087)\n",
      "Syntactic/Lexical Test Shape: (229, 6087)\n",
      "Syntactic/Lexical Test Accuracy for float-v: 0.458515283843\n",
      "~~~~~~~~~~~~~~~~~~~~\n",
      "Semantic Train Shape: (183, 5548)\n",
      "Semantic Test Shape: (229, 5548)\n",
      "Semantic Test Accuracy for float-v: 0.454148471616\n",
      "~~~~~~~~~~~~~~~~~~~~\n",
      "Combined Train Shape: (183, 11635)\n",
      "Combined Test Shape: (229, 11635)\n",
      "Combined Test Accuracy for float-v: 0.449781659389\n",
      "********************\n"
     ]
    }
   ],
   "source": [
    "eval_prediction('float-v', model)\n",
    "eval_prediction('float-v', model2)"
   ]
  },
  {
   "cell_type": "code",
   "execution_count": 25,
   "metadata": {
    "collapsed": false
   },
   "outputs": [
    {
     "name": "stdout",
     "output_type": "stream",
     "text": [
      "********************\n",
      "RandomForestClassifier(bootstrap=True, class_weight=None, criterion='gini',\n",
      "            max_depth=None, max_features='auto', max_leaf_nodes=None,\n",
      "            min_samples_leaf=1, min_samples_split=2,\n",
      "            min_weight_fraction_leaf=0.0, n_estimators=10, n_jobs=1,\n",
      "            oob_score=False, random_state=None, verbose=0,\n",
      "            warm_start=False)\n",
      "~~~~~~~~~~~~~~~~~~~~\n",
      "Syntactic/Lexical Train Shape: (441, 9151)\n",
      "Syntactic/Lexical Test Shape: (229, 9151)\n",
      "Syntactic/Lexical Test Accuracy for brilliant-a: 0.454148471616\n",
      "~~~~~~~~~~~~~~~~~~~~\n",
      "Semantic Train Shape: (441, 2690)\n",
      "Semantic Test Shape: (229, 2690)\n",
      "Semantic Test Accuracy for brilliant-a: 0.471615720524\n",
      "~~~~~~~~~~~~~~~~~~~~\n",
      "Combined Train Shape: (441, 11841)\n",
      "Combined Test Shape: (229, 11841)\n",
      "Combined Test Accuracy for brilliant-a: 0.489082969432\n",
      "********************\n",
      "********************\n",
      "SVC(C=1.0, cache_size=200, class_weight=None, coef0=0.0, degree=3, gamma=0.0,\n",
      "  kernel='linear', max_iter=-1, probability=False, random_state=None,\n",
      "  shrinking=True, tol=0.001, verbose=False)\n",
      "~~~~~~~~~~~~~~~~~~~~\n",
      "Syntactic/Lexical Train Shape: (441, 9151)\n",
      "Syntactic/Lexical Test Shape: (229, 9151)\n",
      "Syntactic/Lexical Test Accuracy for brilliant-a: 0.489082969432\n",
      "~~~~~~~~~~~~~~~~~~~~\n",
      "Semantic Train Shape: (441, 2690)\n",
      "Semantic Test Shape: (229, 2690)\n",
      "Semantic Test Accuracy for brilliant-a: 0.493449781659\n",
      "~~~~~~~~~~~~~~~~~~~~\n",
      "Combined Train Shape: (441, 11841)\n",
      "Combined Test Shape: (229, 11841)\n",
      "Combined Test Accuracy for brilliant-a: 0.493449781659\n",
      "********************\n"
     ]
    }
   ],
   "source": [
    "eval_prediction('brilliant-a', model)\n",
    "eval_prediction('brilliant-a', model2)"
   ]
  },
  {
   "cell_type": "code",
   "execution_count": 26,
   "metadata": {
    "collapsed": false
   },
   "outputs": [
    {
     "name": "stdout",
     "output_type": "stream",
     "text": [
      "********************\n",
      "RandomForestClassifier(bootstrap=True, class_weight=None, criterion='gini',\n",
      "            max_depth=None, max_features='auto', max_leaf_nodes=None,\n",
      "            min_samples_leaf=1, min_samples_split=2,\n",
      "            min_weight_fraction_leaf=0.0, n_estimators=10, n_jobs=1,\n",
      "            oob_score=False, random_state=None, verbose=0,\n",
      "            warm_start=False)\n",
      "~~~~~~~~~~~~~~~~~~~~\n",
      "Syntactic/Lexical Train Shape: (1234, 11657)\n",
      "Syntactic/Lexical Test Shape: (267, 11657)\n",
      "Syntactic/Lexical Test Accuracy for accident-n: 0.838951310861\n",
      "~~~~~~~~~~~~~~~~~~~~\n",
      "Semantic Train Shape: (1234, 9666)\n",
      "Semantic Test Shape: (267, 9666)\n",
      "Semantic Test Accuracy for accident-n: 0.823970037453\n",
      "~~~~~~~~~~~~~~~~~~~~\n",
      "Combined Train Shape: (1234, 21323)\n",
      "Combined Test Shape: (267, 21323)\n",
      "Combined Test Accuracy for accident-n: 0.846441947566\n",
      "********************\n",
      "********************\n",
      "SVC(C=1.0, cache_size=200, class_weight=None, coef0=0.0, degree=3, gamma=0.0,\n",
      "  kernel='linear', max_iter=-1, probability=False, random_state=None,\n",
      "  shrinking=True, tol=0.001, verbose=False)\n",
      "~~~~~~~~~~~~~~~~~~~~\n",
      "Syntactic/Lexical Train Shape: (1234, 11657)\n",
      "Syntactic/Lexical Test Shape: (267, 11657)\n",
      "Syntactic/Lexical Test Accuracy for accident-n: 0.910112359551\n",
      "~~~~~~~~~~~~~~~~~~~~\n",
      "Semantic Train Shape: (1234, 9666)\n",
      "Semantic Test Shape: (267, 9666)\n",
      "Semantic Test Accuracy for accident-n: 0.827715355805\n",
      "~~~~~~~~~~~~~~~~~~~~\n",
      "Combined Train Shape: (1234, 21323)\n",
      "Combined Test Shape: (267, 21323)\n",
      "Combined Test Accuracy for accident-n: 0.921348314607\n",
      "********************\n"
     ]
    }
   ],
   "source": [
    "eval_prediction('accident-n', model)\n",
    "eval_prediction('accident-n', model2)"
   ]
  },
  {
   "cell_type": "code",
   "execution_count": 27,
   "metadata": {
    "collapsed": false
   },
   "outputs": [
    {
     "name": "stdout",
     "output_type": "stream",
     "text": [
      "********************\n",
      "RandomForestClassifier(bootstrap=True, class_weight=None, criterion='gini',\n",
      "            max_depth=None, max_features='auto', max_leaf_nodes=None,\n",
      "            min_samples_leaf=1, min_samples_split=2,\n",
      "            min_weight_fraction_leaf=0.0, n_estimators=10, n_jobs=1,\n",
      "            oob_score=False, random_state=None, verbose=0,\n",
      "            warm_start=False)\n",
      "~~~~~~~~~~~~~~~~~~~~\n",
      "Syntactic/Lexical Train Shape: (1163, 12357)\n",
      "Syntactic/Lexical Test Shape: (224, 12357)\n",
      "Syntactic/Lexical Test Accuracy for promise-v: 0.870535714286\n",
      "~~~~~~~~~~~~~~~~~~~~\n",
      "Semantic Train Shape: (1163, 3928)\n",
      "Semantic Test Shape: (224, 3928)\n",
      "Semantic Test Accuracy for promise-v: 0.84375\n",
      "~~~~~~~~~~~~~~~~~~~~\n",
      "Combined Train Shape: (1163, 16285)\n",
      "Combined Test Shape: (224, 16285)\n",
      "Combined Test Accuracy for promise-v: 0.861607142857\n",
      "********************\n",
      "********************\n",
      "SVC(C=1.0, cache_size=200, class_weight=None, coef0=0.0, degree=3, gamma=0.0,\n",
      "  kernel='linear', max_iter=-1, probability=False, random_state=None,\n",
      "  shrinking=True, tol=0.001, verbose=False)\n",
      "~~~~~~~~~~~~~~~~~~~~\n",
      "Syntactic/Lexical Train Shape: (1163, 12357)\n",
      "Syntactic/Lexical Test Shape: (224, 12357)\n",
      "Syntactic/Lexical Test Accuracy for promise-v: 0.879464285714\n",
      "~~~~~~~~~~~~~~~~~~~~\n",
      "Semantic Train Shape: (1163, 3928)\n",
      "Semantic Test Shape: (224, 3928)\n",
      "Semantic Test Accuracy for promise-v: 0.861607142857\n",
      "~~~~~~~~~~~~~~~~~~~~\n",
      "Combined Train Shape: (1163, 16285)\n",
      "Combined Test Shape: (224, 16285)\n",
      "Combined Test Accuracy for promise-v: 0.879464285714\n",
      "********************\n"
     ]
    }
   ],
   "source": [
    "eval_prediction('promise-v', model)\n",
    "eval_prediction('promise-v', model2)"
   ]
  },
  {
   "cell_type": "code",
   "execution_count": 5,
   "metadata": {
    "collapsed": false
   },
   "outputs": [
    {
     "name": "stdout",
     "output_type": "stream",
     "text": [
      "********************\n",
      "RandomForestClassifier(bootstrap=True, class_weight=None, criterion='gini',\n",
      "            max_depth=None, max_features='auto', max_leaf_nodes=None,\n",
      "            min_samples_leaf=1, min_samples_split=2,\n",
      "            min_weight_fraction_leaf=0.0, n_estimators=10, n_jobs=1,\n",
      "            oob_score=False, random_state=None, verbose=0,\n",
      "            warm_start=False)\n",
      "~~~~~~~~~~~~~~~~~~~~\n",
      "Syntactic/Lexical Train Shape: (307, 7454)\n",
      "Syntactic/Lexical Test Shape: (227, 7454)\n",
      "Syntactic/Lexical Test Accuracy for generous-a: 0.471365638767\n",
      "~~~~~~~~~~~~~~~~~~~~\n",
      "Semantic Train Shape: (307, 5882)\n",
      "Semantic Test Shape: (227, 5882)\n",
      "Semantic Test Accuracy for generous-a: 0.409691629956\n",
      "~~~~~~~~~~~~~~~~~~~~\n",
      "Combined Train Shape: (307, 13336)\n",
      "Combined Test Shape: (227, 13336)\n",
      "Combined Test Accuracy for generous-a: 0.418502202643\n",
      "********************\n",
      "********************\n",
      "SVC(C=1.0, cache_size=200, class_weight=None, coef0=0.0, degree=3, gamma=0.0,\n",
      "  kernel='linear', max_iter=-1, probability=False, random_state=None,\n",
      "  shrinking=True, tol=0.001, verbose=False)\n",
      "~~~~~~~~~~~~~~~~~~~~\n",
      "Syntactic/Lexical Train Shape: (307, 7454)\n",
      "Syntactic/Lexical Test Shape: (227, 7454)\n",
      "Syntactic/Lexical Test Accuracy for generous-a: 0.550660792952\n",
      "~~~~~~~~~~~~~~~~~~~~\n",
      "Semantic Train Shape: (307, 5882)\n",
      "Semantic Test Shape: (227, 5882)\n",
      "Semantic Test Accuracy for generous-a: 0.480176211454\n",
      "~~~~~~~~~~~~~~~~~~~~\n",
      "Combined Train Shape: (307, 13336)\n",
      "Combined Test Shape: (227, 13336)\n",
      "Combined Test Accuracy for generous-a: 0.555066079295\n",
      "********************\n"
     ]
    }
   ],
   "source": [
    "#0.498\n",
    "eval_prediction('generous-a', model)\n",
    "eval_prediction('generous-a', model2)"
   ]
  },
  {
   "cell_type": "code",
   "execution_count": 6,
   "metadata": {
    "collapsed": false
   },
   "outputs": [
    {
     "name": "stdout",
     "output_type": "stream",
     "text": [
      "********************\n",
      "RandomForestClassifier(bootstrap=True, class_weight=None, criterion='gini',\n",
      "            max_depth=None, max_features='auto', max_leaf_nodes=None,\n",
      "            min_samples_leaf=1, min_samples_split=2,\n",
      "            min_weight_fraction_leaf=0.0, n_estimators=10, n_jobs=1,\n",
      "            oob_score=False, random_state=None, verbose=0,\n",
      "            warm_start=False)\n",
      "~~~~~~~~~~~~~~~~~~~~\n",
      "Syntactic/Lexical Train Shape: (282, 5560)\n",
      "Syntactic/Lexical Test Shape: (209, 5560)\n",
      "Syntactic/Lexical Test Accuracy for bother-v: 0.688995215311\n",
      "~~~~~~~~~~~~~~~~~~~~\n",
      "Semantic Train Shape: (282, 4992)\n",
      "Semantic Test Shape: (209, 4992)\n",
      "Semantic Test Accuracy for bother-v: 0.540669856459\n",
      "~~~~~~~~~~~~~~~~~~~~\n",
      "Combined Train Shape: (282, 10552)\n",
      "Combined Test Shape: (209, 10552)\n",
      "Combined Test Accuracy for bother-v: 0.679425837321\n",
      "********************\n",
      "********************\n",
      "SVC(C=1.0, cache_size=200, class_weight=None, coef0=0.0, degree=3, gamma=0.0,\n",
      "  kernel='linear', max_iter=-1, probability=False, random_state=None,\n",
      "  shrinking=True, tol=0.001, verbose=False)\n",
      "~~~~~~~~~~~~~~~~~~~~\n",
      "Syntactic/Lexical Train Shape: (282, 5560)\n",
      "Syntactic/Lexical Test Shape: (209, 5560)\n",
      "Syntactic/Lexical Test Accuracy for bother-v: 0.746411483254\n",
      "~~~~~~~~~~~~~~~~~~~~\n",
      "Semantic Train Shape: (282, 4992)\n",
      "Semantic Test Shape: (209, 4992)\n",
      "Semantic Test Accuracy for bother-v: 0.521531100478\n",
      "~~~~~~~~~~~~~~~~~~~~\n",
      "Combined Train Shape: (282, 10552)\n",
      "Combined Test Shape: (209, 10552)\n",
      "Combined Test Accuracy for bother-v: 0.727272727273\n",
      "********************\n"
     ]
    }
   ],
   "source": [
    "#0.689\n",
    "eval_prediction('bother-v', model)\n",
    "eval_prediction('bother-v', model2)"
   ]
  },
  {
   "cell_type": "code",
   "execution_count": 7,
   "metadata": {
    "collapsed": false
   },
   "outputs": [
    {
     "name": "stdout",
     "output_type": "stream",
     "text": [
      "********************\n",
      "RandomForestClassifier(bootstrap=True, class_weight=None, criterion='gini',\n",
      "            max_depth=None, max_features='auto', max_leaf_nodes=None,\n",
      "            min_samples_leaf=1, min_samples_split=2,\n",
      "            min_weight_fraction_leaf=0.0, n_estimators=10, n_jobs=1,\n",
      "            oob_score=False, random_state=None, verbose=0,\n",
      "            warm_start=False)\n",
      "~~~~~~~~~~~~~~~~~~~~\n",
      "Syntactic/Lexical Train Shape: (259, 7176)\n",
      "Syntactic/Lexical Test Shape: (217, 7176)\n",
      "Syntactic/Lexical Test Accuracy for derive-v: 0.6866359447\n",
      "~~~~~~~~~~~~~~~~~~~~\n",
      "Semantic Train Shape: (259, 5751)\n",
      "Semantic Test Shape: (217, 5751)\n",
      "Semantic Test Accuracy for derive-v: 0.617511520737\n",
      "~~~~~~~~~~~~~~~~~~~~\n",
      "Combined Train Shape: (259, 12927)\n",
      "Combined Test Shape: (217, 12927)\n",
      "Combined Test Accuracy for derive-v: 0.608294930876\n",
      "********************\n",
      "********************\n",
      "SVC(C=1.0, cache_size=200, class_weight=None, coef0=0.0, degree=3, gamma=0.0,\n",
      "  kernel='linear', max_iter=-1, probability=False, random_state=None,\n",
      "  shrinking=True, tol=0.001, verbose=False)\n",
      "~~~~~~~~~~~~~~~~~~~~\n",
      "Syntactic/Lexical Train Shape: (259, 7176)\n",
      "Syntactic/Lexical Test Shape: (217, 7176)\n",
      "Syntactic/Lexical Test Accuracy for derive-v: 0.626728110599\n",
      "~~~~~~~~~~~~~~~~~~~~\n",
      "Semantic Train Shape: (259, 5751)\n",
      "Semantic Test Shape: (217, 5751)\n",
      "Semantic Test Accuracy for derive-v: 0.608294930876\n",
      "~~~~~~~~~~~~~~~~~~~~\n",
      "Combined Train Shape: (259, 12927)\n",
      "Combined Test Shape: (217, 12927)\n",
      "Combined Test Accuracy for derive-v: 0.645161290323\n",
      "********************\n"
     ]
    }
   ],
   "source": [
    "#0.541\n",
    "eval_prediction('derive-v', model)\n",
    "eval_prediction('derive-v', model2)"
   ]
  },
  {
   "cell_type": "code",
   "execution_count": 8,
   "metadata": {
    "collapsed": false
   },
   "outputs": [
    {
     "name": "stdout",
     "output_type": "stream",
     "text": [
      "********************\n",
      "RandomForestClassifier(bootstrap=True, class_weight=None, criterion='gini',\n",
      "            max_depth=None, max_features='auto', max_leaf_nodes=None,\n",
      "            min_samples_leaf=1, min_samples_split=2,\n",
      "            min_weight_fraction_leaf=0.0, n_estimators=10, n_jobs=1,\n",
      "            oob_score=False, random_state=None, verbose=0,\n",
      "            warm_start=False)\n",
      "~~~~~~~~~~~~~~~~~~~~\n",
      "Syntactic/Lexical Train Shape: (99, 3565)\n",
      "Syntactic/Lexical Test Shape: (82, 3565)\n",
      "Syntactic/Lexical Test Accuracy for sack-n: 0.792682926829\n",
      "~~~~~~~~~~~~~~~~~~~~\n",
      "Semantic Train Shape: (99, 1173)\n",
      "Semantic Test Shape: (82, 1173)\n",
      "Semantic Test Accuracy for sack-n: 0.646341463415\n",
      "~~~~~~~~~~~~~~~~~~~~\n",
      "Combined Train Shape: (99, 4738)\n",
      "Combined Test Shape: (82, 4738)\n",
      "Combined Test Accuracy for sack-n: 0.80487804878\n",
      "********************\n",
      "********************\n",
      "SVC(C=1.0, cache_size=200, class_weight=None, coef0=0.0, degree=3, gamma=0.0,\n",
      "  kernel='linear', max_iter=-1, probability=False, random_state=None,\n",
      "  shrinking=True, tol=0.001, verbose=False)\n",
      "~~~~~~~~~~~~~~~~~~~~\n",
      "Syntactic/Lexical Train Shape: (99, 3565)\n",
      "Syntactic/Lexical Test Shape: (82, 3565)\n",
      "Syntactic/Lexical Test Accuracy for sack-n: 0.792682926829\n",
      "~~~~~~~~~~~~~~~~~~~~\n",
      "Semantic Train Shape: (99, 1173)\n",
      "Semantic Test Shape: (82, 1173)\n",
      "Semantic Test Accuracy for sack-n: 0.682926829268\n",
      "~~~~~~~~~~~~~~~~~~~~\n",
      "Combined Train Shape: (99, 4738)\n",
      "Combined Test Shape: (82, 4738)\n",
      "Combined Test Accuracy for sack-n: 0.817073170732\n",
      "********************\n"
     ]
    }
   ],
   "source": [
    "#0.650\n",
    "eval_prediction('sack-n', model)\n",
    "eval_prediction('sack-n', model2)"
   ]
  }
 ],
 "metadata": {
  "kernelspec": {
   "display_name": "Python 2",
   "language": "python",
   "name": "python2"
  },
  "language_info": {
   "codemirror_mode": {
    "name": "ipython",
    "version": 2
   },
   "file_extension": ".py",
   "mimetype": "text/x-python",
   "name": "python",
   "nbconvert_exporter": "python",
   "pygments_lexer": "ipython2",
   "version": "2.7.9"
  }
 },
 "nbformat": 4,
 "nbformat_minor": 0
}
