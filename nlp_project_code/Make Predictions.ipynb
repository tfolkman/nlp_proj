{
 "cells": [
  {
   "cell_type": "markdown",
   "metadata": {},
   "source": [
    "#Make Predictions\n",
    "* Compare to fine grain, S system, recall results\n",
    "* I think recall is defined as percentage of correct answers on all instances in test set. Which is what we are doing (basically accuracy)\n",
    "    * http://www2.denizyuret.com/ref/edmonds/senseval.pdf"
   ]
  },
  {
   "cell_type": "code",
   "execution_count": 3,
   "metadata": {
    "collapsed": false
   },
   "outputs": [],
   "source": [
    "from sklearn.ensemble import RandomForestClassifier\n",
    "from sklearn.svm import SVC\n",
    "from sklearn.metrics import precision_recall_fscore_support\n",
    "from __future__ import division\n",
    "import numpy as np"
   ]
  },
  {
   "cell_type": "code",
   "execution_count": 4,
   "metadata": {
    "collapsed": true
   },
   "outputs": [],
   "source": [
    "def get_acc(y_pred, y_test):\n",
    "    tp = 0\n",
    "    for i, y in enumerate(y_test):\n",
    "        if y_pred[i] in y:\n",
    "            tp = tp+1\n",
    "    return tp / len(y_pred)\n",
    "def load_data(lex, final_dir = \"/Users/tylerfolkman/GradSchool/Spring2015/NLP/project/clean/data/test_train\"):\n",
    "    train_X = np.load(\"{0}/{1}_train_X.npy\".format(final_dir, lex))\n",
    "    test_X = np.load(\"{0}/{1}_test_X.npy\".format(final_dir, lex))\n",
    "    train_target = np.load(\"{0}/{1}_train_target.npy\".format(final_dir, lex))\n",
    "    test_target = np.load(\"{0}/{1}_test_target.npy\".format(final_dir, lex))\n",
    "    return train_X, train_target, test_X, test_target\n",
    "def eval_prediction(lex, model):\n",
    "    clf = model\n",
    "    train_X, train_target, test_X, test_target = load_data(lex)\n",
    "    print(\"Train Shape: {}\".format(train_X.shape))\n",
    "    print(\"Test Shape: {}\".format(test_X.shape))\n",
    "    clf.fit(train_X, train_target)\n",
    "    pred_target = clf.predict(test_X)\n",
    "    acc = get_acc(pred_target, test_target)\n",
    "    print(\"Test Accuracy for {0}: {1}\".format(lex, acc))\n",
    "    return acc, pred_target"
   ]
  },
  {
   "cell_type": "code",
   "execution_count": 13,
   "metadata": {
    "collapsed": false
   },
   "outputs": [
    {
     "name": "stdout",
     "output_type": "stream",
     "text": [
      "Train Shape: (178, 5717)\n",
      "Test Shape: (186, 5717)\n",
      "Test Accuracy for excess-n: 0.817204301075\n",
      "Train Shape: (178, 5717)\n",
      "Test Shape: (186, 5717)\n",
      "Test Accuracy for excess-n: 0.860215053763\n"
     ]
    }
   ],
   "source": [
    "model = RandomForestClassifier(n_estimators=10)\n",
    "model2 = SVC(kernel='linear')\n",
    "acc, predictions = eval_prediction('excess-n', model)\n",
    "acc2, predictions2 = eval_prediction('excess-n', model2)"
   ]
  },
  {
   "cell_type": "code",
   "execution_count": 14,
   "metadata": {
    "collapsed": false
   },
   "outputs": [
    {
     "name": "stdout",
     "output_type": "stream",
     "text": [
      "Train Shape: (183, 6087)\n",
      "Test Shape: (229, 6087)\n",
      "Test Accuracy for float-v: 0.436681222707\n",
      "Train Shape: (183, 6087)\n",
      "Test Shape: (229, 6087)\n",
      "Test Accuracy for float-v: 0.458515283843\n"
     ]
    }
   ],
   "source": [
    "acc, predictions = eval_prediction('float-v', model)\n",
    "acc2, predictions2 = eval_prediction('float-v', model2)"
   ]
  },
  {
   "cell_type": "code",
   "execution_count": 15,
   "metadata": {
    "collapsed": false
   },
   "outputs": [
    {
     "name": "stdout",
     "output_type": "stream",
     "text": [
      "Train Shape: (441, 9151)\n",
      "Test Shape: (229, 9151)\n",
      "Test Accuracy for brilliant-a: 0.475982532751\n",
      "Train Shape: (441, 9151)\n",
      "Test Shape: (229, 9151)\n",
      "Test Accuracy for brilliant-a: 0.489082969432\n"
     ]
    }
   ],
   "source": [
    "acc, predictions = eval_prediction('brilliant-a', model)\n",
    "acc2, predictions2 = eval_prediction('brilliant-a', model2)"
   ]
  },
  {
   "cell_type": "code",
   "execution_count": 17,
   "metadata": {
    "collapsed": false
   },
   "outputs": [
    {
     "name": "stdout",
     "output_type": "stream",
     "text": [
      "Train Shape: (1234, 11657)\n",
      "Test Shape: (267, 11657)\n",
      "Test Accuracy for accident-n: 0.842696629213\n",
      "Train Shape: (1234, 11657)\n",
      "Test Shape: (267, 11657)\n",
      "Test Accuracy for accident-n: 0.910112359551\n"
     ]
    }
   ],
   "source": [
    "acc, predictions = eval_prediction('accident-n', model)\n",
    "acc2, predictions2 = eval_prediction('accident-n', model2)"
   ]
  },
  {
   "cell_type": "code",
   "execution_count": 18,
   "metadata": {
    "collapsed": false
   },
   "outputs": [
    {
     "name": "stdout",
     "output_type": "stream",
     "text": [
      "Train Shape: (1163, 12357)\n",
      "Test Shape: (224, 12357)\n",
      "Test Accuracy for promise-v: 0.852678571429\n",
      "Train Shape: (1163, 12357)\n",
      "Test Shape: (224, 12357)\n",
      "Test Accuracy for promise-v: 0.879464285714\n"
     ]
    }
   ],
   "source": [
    "acc, predictions = eval_prediction('promise-v', model)\n",
    "acc2, predictions2 = eval_prediction('promise-v', model2)"
   ]
  }
 ],
 "metadata": {
  "kernelspec": {
   "display_name": "Python 2",
   "language": "python",
   "name": "python2"
  },
  "language_info": {
   "codemirror_mode": {
    "name": "ipython",
    "version": 2
   },
   "file_extension": ".py",
   "mimetype": "text/x-python",
   "name": "python",
   "nbconvert_exporter": "python",
   "pygments_lexer": "ipython2",
   "version": "2.7.9"
  }
 },
 "nbformat": 4,
 "nbformat_minor": 0
}
